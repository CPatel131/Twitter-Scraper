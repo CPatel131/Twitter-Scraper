{
 "cells": [
  {
   "cell_type": "code",
   "execution_count": 150,
   "metadata": {},
   "outputs": [],
   "source": [
    "import re\n",
    "from getpass import getpass\n",
    "from time import sleep\n",
    "from selenium.webdriver.common.keys import Keys\n",
    "from selenium.webdriver import Chrome\n",
    "from selenium.common.exceptions import NoSuchElementException\n",
    "\n",
    "import numpy as np\n",
    "import pandas as pd\n",
    "import matplotlib.pyplot as plt\n",
    "from mpl_toolkits import mplot3d\n",
    "from scipy import stats\n",
    "import matplotlib_venn as vplt"
   ]
  },
  {
   "cell_type": "code",
   "execution_count": 151,
   "metadata": {},
   "outputs": [],
   "source": [
    "driver = Chrome(executable_path='/Users/amywang418/Downloads/chromedriver')\n",
    "driver.get('https://twitter.com/login')"
   ]
  },
  {
   "cell_type": "code",
   "execution_count": 152,
   "metadata": {},
   "outputs": [
    {
     "name": "stdout",
     "output_type": "stream",
     "text": [
      "········\n"
     ]
    }
   ],
   "source": [
    "username = driver.find_element_by_xpath('//input[@name =\"session[username_or_email]\"]')\n",
    "username.send_keys(\"@amywang14\")\n",
    "\n",
    "mypass = getpass()\n",
    "password = driver.find_element_by_xpath('//input[@name =\"session[password]\"]')\n",
    "password.send_keys(mypass)\n",
    "password.send_keys(Keys.RETURN)"
   ]
  },
  {
   "cell_type": "code",
   "execution_count": 153,
   "metadata": {},
   "outputs": [
    {
     "name": "stdout",
     "output_type": "stream",
     "text": [
      "election\n"
     ]
    }
   ],
   "source": [
    "wordsearch=input()\n",
    "search_input=driver.find_element_by_xpath('//input[@aria-label=\"Search query\"]')\n",
    "search_input.send_keys(wordsearch)\n",
    "search_input.send_keys(Keys.RETURN)"
   ]
  },
  {
   "cell_type": "code",
   "execution_count": 154,
   "metadata": {},
   "outputs": [],
   "source": [
    "def tweet(card):\n",
    "    username = card.find_element_by_xpath('.//span').text\n",
    "    try:\n",
    "        handle = card.find_element_by_xpath('.//span[contains(text(),\"@\")]').text\n",
    "    except NoSuchElementException:\n",
    "        return\n",
    "    try:\n",
    "        datetime1 = card.find_element_by_xpath('.//time').get_attribute('datetime')\n",
    "        date = datetime1[0:10]\n",
    "        time = datetime1[11:22]\n",
    "    except NoSuchElementException:\n",
    "        return\n",
    "    comment = card.find_element_by_xpath('.//div[2]/div[2]/div[1]').text\n",
    "    reply = card.find_element_by_xpath('.//div[2]/div[2]/div[2]').text\n",
    "    replynum = card.find_element_by_xpath('.//div[@data-testid=\"reply\"]').text\n",
    "    retweetnum = card.find_element_by_xpath('.//div[@data-testid=\"retweet\"]').text\n",
    "    likenum = card.find_element_by_xpath('.//div[@data-testid=\"like\"]').text\n",
    "    tweet = (username, handle, date, time, comment, reply, replynum, retweetnum, likenum)\n",
    "    return tweet"
   ]
  },
  {
   "cell_type": "code",
   "execution_count": 155,
   "metadata": {},
   "outputs": [],
   "source": [
    "data = []\n",
    "twt_ids = set()\n",
    "latest = driver.execute_script(\"return window.pageYOffset;\")\n",
    "scroll= True\n",
    "while (scroll and len(data) < 150):\n",
    "    page_card = driver.find_elements_by_xpath('//div[@data-testid=\"tweet\"]')\n",
    "    for card in page_card[-20:]:\n",
    "        twt = tweet(card)\n",
    "        if twt:\n",
    "            twt_ID = ''.join(twt)\n",
    "            if twt_ID not in twt_ids:\n",
    "                twt_ids.add(twt_ID)\n",
    "                data.append(twt)\n",
    "    scroll_trial = 0\n",
    "    while True:\n",
    "        driver.execute_script('window.scrollTo(0,document.body.scrollHeight);')\n",
    "        sleep(3)\n",
    "        curr=driver.execute_script(\"return window.pageYOffset;\")\n",
    "        if latest == curr:\n",
    "            scroll_trial += 1\n",
    "            if scroll_trial >= 5:\n",
    "                driver.find_element_by_link_text('Latest').click()\n",
    "                sleep(2)\n",
    "                break\n",
    "            else:\n",
    "                sleep(5)\n",
    "        else:\n",
    "            latest = curr\n",
    "            break;"
   ]
  },
  {
   "cell_type": "code",
   "execution_count": 156,
   "metadata": {},
   "outputs": [
    {
     "name": "stdout",
     "output_type": "stream",
     "text": [
      "150\n"
     ]
    }
   ],
   "source": [
    "print(len(data))"
   ]
  },
  {
   "cell_type": "code",
   "execution_count": 157,
   "metadata": {},
   "outputs": [
    {
     "name": "stdout",
     "output_type": "stream",
     "text": [
      "('Kyle Griffin', '@kylegriffin1', '2020-11-08', '17:25:44.00', 'George W. Bush: \"I just talked to the President-elect of the United States, Joe Biden. I extended my warm congratulations and thanked him for the patriotic message he delivered last night. I also called Kamala Harris to congratulate her on her historic election.\"', '', '135', '1K', '5.3K')\n"
     ]
    }
   ],
   "source": [
    "print(data[1])"
   ]
  },
  {
   "cell_type": "code",
   "execution_count": 179,
   "metadata": {},
   "outputs": [],
   "source": [
    "def tweets_to_data_frame(tweetArray):\n",
    "    \n",
    "        df = pd.DataFrame(data=[tweet[4] for tweet in tweetArray], columns=['tweets'])\n",
    "\n",
    "        df['userhandle'] = np.array([tweet[1] for tweet in tweetArray])\n",
    "        df['date'] = np.array([tweet[2] for tweet in tweetArray])\n",
    "        df['time'] = np.array([tweet[3] for tweet in tweetArray])\n",
    "        df['len'] = np.array([len(tweet[4]) for tweet in tweetArray])\n",
    "        df['reply'] = np.array([tweet[5] for tweet in tweetArray])\n",
    "        df['replies'] = np.array([tweet[6] for tweet in tweetArray])\n",
    "        df['retweets'] = np.array([tweet[7] for tweet in tweetArray])\n",
    "        df['likes'] = np.array([tweet[8] for tweet in tweetArray])\n",
    "\n",
    "        return df"
   ]
  },
  {
   "cell_type": "code",
   "execution_count": 180,
   "metadata": {},
   "outputs": [],
   "source": [
    "dataframeTweets = tweets_to_data_frame(data)"
   ]
  },
  {
   "cell_type": "code",
   "execution_count": 181,
   "metadata": {},
   "outputs": [
    {
     "data": {
      "text/plain": [
       "Text(0, 0.5, 'Frequency')"
      ]
     },
     "execution_count": 181,
     "metadata": {},
     "output_type": "execute_result"
    },
    {
     "data": {
      "image/png": "[encoded data removed]",
      "text/plain": [
       "<Figure size 432x288 with 1 Axes>"
      ]
     },
     "metadata": {
      "needs_background": "light"
     },
     "output_type": "display_data"
    }
   ],
   "source": [
    "lengthplot = dataframeTweets['len'].hist(bins = 20)\n",
    "lengthplot.set_title(\"Length of tweets\")\n",
    "lengthplot.set_xlabel(\"Number of characters\")\n",
    "lengthplot.set_ylabel(\"Frequency\")"
   ]
  },
  {
   "cell_type": "code",
   "execution_count": 182,
   "metadata": {},
   "outputs": [],
   "source": [
    "def str_to_float(x):\n",
    "    if type(x) == float or type(x) == int:\n",
    "        return x\n",
    "    if '\\n' in x:\n",
    "        x = x[0: x.index('\\n')]\n",
    "    if 'K' in x:\n",
    "        if len(x) > 1:\n",
    "            return float(x.replace('K', '')) * 1000\n",
    "        return 1000.0\n",
    "    if 'M' in x:\n",
    "        if len(x) > 1:\n",
    "            return float(x.replace('M', '')) * 1000000\n",
    "        return 1000000.0\n",
    "    if 'B' in x:\n",
    "        return float(x.replace('B', '')) * 1000000000\n",
    "    if x == '':\n",
    "        return 0\n",
    "    return float(x)"
   ]
  },
  {
   "cell_type": "code",
   "execution_count": 183,
   "metadata": {},
   "outputs": [],
   "source": [
    "dataframeTweets['likes'] = dataframeTweets['likes'].apply(str_to_float)\n",
    "dataframeTweets['retweets'] = dataframeTweets['retweets'].apply(str_to_float)\n",
    "dataframeTweets['replies'] = dataframeTweets['replies'].apply(str_to_float)"
   ]
  },
  {
   "cell_type": "code",
   "execution_count": 184,
   "metadata": {},
   "outputs": [
    {
     "name": "stdout",
     "output_type": "stream",
     "text": [
      "       likes  retweets  replies  length\n",
      "0    10300.0    3400.0    654.0     112\n",
      "1     5300.0    1000.0    135.0     263\n",
      "2      676.0     304.0     55.0      50\n",
      "3     2100.0     215.0     80.0      90\n",
      "4     1300.0     436.0    609.0     153\n",
      "..       ...       ...      ...     ...\n",
      "145      0.0       0.0      0.0      47\n",
      "146      0.0       0.0      0.0     213\n",
      "147      0.0       0.0      0.0     148\n",
      "148      0.0       0.0      1.0     118\n",
      "149      0.0       0.0      0.0      87\n",
      "\n",
      "[150 rows x 4 columns]\n"
     ]
    }
   ],
   "source": [
    "df = pd.DataFrame({'likes':dataframeTweets['likes'], \n",
    "                   'retweets':dataframeTweets['retweets'], \n",
    "                   'replies':dataframeTweets['replies'], \n",
    "                   'length':dataframeTweets['len']})\n",
    "print(df)"
   ]
  },
  {
   "cell_type": "code",
   "execution_count": 185,
   "metadata": {},
   "outputs": [
    {
     "name": "stdout",
     "output_type": "stream",
     "text": [
      "      likes  retweets  replies  length\n",
      "2     676.0     304.0     55.0      50\n",
      "3    2100.0     215.0     80.0      90\n",
      "5    1200.0     207.0      7.0     223\n",
      "6     176.0     100.0     14.0      75\n",
      "7     440.0     248.0     14.0     209\n",
      "..      ...       ...      ...     ...\n",
      "145     0.0       0.0      0.0      47\n",
      "146     0.0       0.0      0.0     213\n",
      "147     0.0       0.0      0.0     148\n",
      "148     0.0       0.0      1.0     118\n",
      "149     0.0       0.0      0.0      87\n",
      "\n",
      "[143 rows x 4 columns]\n"
     ]
    }
   ],
   "source": [
    "z_scores = stats.zscore(df)\n",
    "abs_z_scores = np.abs(z_scores)\n",
    "filtered_entries = (abs_z_scores < 2).all(axis=1)\n",
    "new_df = df[filtered_entries]\n",
    "print(new_df)"
   ]
  },
  {
   "cell_type": "code",
   "execution_count": 186,
   "metadata": {},
   "outputs": [],
   "source": [
    "a = new_df['replies']\n",
    "b = new_df['likes']\n",
    "c = new_df['retweets']\n",
    "d = new_df['length']\n",
    "slope1, intercept1, r_value1, p_value1, std_err1 = stats.linregress(a,b)\n",
    "slope2, intercept2, r_value2, p_value2, std_err2 = stats.linregress(b,c)\n",
    "slope3, intercept3, r_value3, p_value3, std_err3 = stats.linregress(a,c)\n",
    "slope4, intercept4, r_value4, p_value4, std_err4 = stats.linregress(d,b)"
   ]
  },
  {
   "cell_type": "code",
   "execution_count": 187,
   "metadata": {},
   "outputs": [
    {
     "data": {
      "image/png": "[encoded data removed]",
      "text/plain": [
       "<Figure size 432x288 with 4 Axes>"
      ]
     },
     "metadata": {
      "needs_background": "light"
     },
     "output_type": "display_data"
    }
   ],
   "source": [
    "fig, axs = plt.subplots(2, 2)\n",
    "axs[0, 0].scatter(a, b)\n",
    "axs[0, 0].plot(a, slope1*a + intercept1, c='r')\n",
    "axs[0, 0].set_title(\"Likes vs. Replies\")\n",
    "axs[0, 0].set_xlabel(\"Num of replies\")\n",
    "axs[0, 0].set_ylabel(\"Num of likes\")\n",
    "\n",
    "axs[1, 0].scatter(b, c)\n",
    "axs[1, 0].plot(b, slope2*b + intercept2, c='r')\n",
    "axs[1, 0].set_title(\"Retweets vs. Likes\")\n",
    "axs[1, 0].set_xlabel(\"Num of likes\")\n",
    "axs[1, 0].set_ylabel(\"Num of retweets\")\n",
    "\n",
    "axs[0, 1].scatter(a, c)\n",
    "axs[0, 1].plot(a, slope3*a + intercept3, c='r')\n",
    "axs[0, 1].set_title(\"Retweets vs. Replies\")\n",
    "axs[0, 1].set_xlabel(\"Num of replies\")\n",
    "axs[0, 1].set_ylabel(\"Num of retweets\")\n",
    "\n",
    "axs[1, 1].scatter(d, b)\n",
    "axs[1, 1].plot(d, slope4*d + intercept4, c='r')\n",
    "axs[1, 1].set_title(\"Likes vs. Length of Tweet\")\n",
    "axs[1, 1].set_xlabel(\"length of tweet\")\n",
    "axs[1, 1].set_ylabel(\"Num of likes\")\n",
    "fig.tight_layout()"
   ]
  },
  {
   "cell_type": "code",
   "execution_count": 188,
   "metadata": {},
   "outputs": [],
   "source": [
    "def calcRsqr(x, y, r):\n",
    "    rsqr = r * r\n",
    "    print(\"The r-squared value between \" + x + \" and \" + y + \" is: \" + str(rsqr))\n",
    "    if (rsqr > 0.5):\n",
    "        print(\"There is a positive correlation between \" + x + \" and \" + y + \"\\n\")\n",
    "    else:\n",
    "        print(\"There is no correlation between \" + x + \" and \" + y + \"\\n\")"
   ]
  },
  {
   "cell_type": "code",
   "execution_count": 189,
   "metadata": {},
   "outputs": [
    {
     "name": "stdout",
     "output_type": "stream",
     "text": [
      "The r-squared value between num of replies and num of likes is: 0.6248693858879704\n",
      "There is a positive correlation between num of replies and num of likes\n",
      "\n",
      "The r-squared value between num of likes and num of retweets is: 0.7842370622827423\n",
      "There is a positive correlation between num of likes and num of retweets\n",
      "\n",
      "The r-squared value between num of replies and num of retweets is: 0.5652682854742318\n",
      "There is a positive correlation between num of replies and num of retweets\n",
      "\n",
      "The r-squared value between length of tweet and num of likes is: 0.008469368354960895\n",
      "There is no correlation between length of tweet and num of likes\n",
      "\n"
     ]
    }
   ],
   "source": [
    "calcRsqr(\"num of replies\", \"num of likes\", r_value1)\n",
    "calcRsqr(\"num of likes\", \"num of retweets\", r_value2)\n",
    "calcRsqr(\"num of replies\", \"num of retweets\", r_value3)\n",
    "calcRsqr(\"length of tweet\", \"num of likes\", r_value4)"
   ]
  },
  {
   "cell_type": "code",
   "execution_count": 190,
   "metadata": {},
   "outputs": [
    {
     "data": {
      "image/png": "[encoded data removed]",
      "text/plain": [
       "<Figure size 432x288 with 1 Axes>"
      ]
     },
     "metadata": {
      "needs_background": "light"
     },
     "output_type": "display_data"
    }
   ],
   "source": [
    "%matplotlib inline\n",
    "fig = plt.figure()\n",
    "ax = plt.axes(projection='3d')\n",
    "\n",
    "zdata = new_df['likes']\n",
    "xdata = new_df['retweets']\n",
    "ydata = new_df['replies']\n",
    "ax.scatter3D(xdata, ydata, zdata);"
   ]
  },
  {
   "cell_type": "code",
   "execution_count": 170,
   "metadata": {},
   "outputs": [
    {
     "name": "stdout",
     "output_type": "stream",
     "text": [
      "0      If Joe Biden really wants to unify this countr...\n",
      "1      George W. Bush: \"I just talked to the Presiden...\n",
      "2      NEW: President George W. Bush on the 2020 elec...\n",
      "3      There’s no evidence of election fraud, but the...\n",
      "4      We are fighting around the clock to DEFEND the...\n",
      "                             ...                        \n",
      "145      Here's who really won and lost in this election\n",
      "146    Enjoy weekend vibes at #Cinergy today with mov...\n",
      "147    As Election Day approaches remember to #GetPol...\n",
      "148    BREAKING: A HIGHLY IRREGULAR ELECTION - Federa...\n",
      "149    Same shit, different election https://instagra...\n",
      "Name: tweets, Length: 150, dtype: object\n"
     ]
    }
   ],
   "source": [
    "print(dataframeTweets['tweets'])"
   ]
  },
  {
   "cell_type": "code",
   "execution_count": 191,
   "metadata": {},
   "outputs": [
    {
     "data": {
      "image/png": "[encoded data removed]",
      "text/plain": [
       "<Figure size 432x288 with 1 Axes>"
      ]
     },
     "metadata": {},
     "output_type": "display_data"
    }
   ],
   "source": [
    "trump = 0\n",
    "biden = 0\n",
    "both = 0\n",
    "t = [\"Trump\", \"trump\", \"Donald\", \"donald\", \"Republican\", \"republican\"]\n",
    "b = [\"Biden\", \"biden\", \"Joe\", \"joe\", \"Democrat\", \"democrat\"]\n",
    "for tweet in dataframeTweets['tweets']:\n",
    "    if (any(name in tweet for name in t) and any(name in tweet for name in b)):\n",
    "        both += 1\n",
    "    elif (any(name in tweet for name in t)):\n",
    "        trump +=1\n",
    "    elif (any(name in tweet for name in b)):\n",
    "        biden +=1\n",
    "        \n",
    "%matplotlib inline\n",
    "v = vplt.venn2(subsets=(biden,trump,both), set_labels = ('Biden', 'Trump'))\n",
    "plt.show()"
   ]
  },
  {
   "cell_type": "code",
   "execution_count": 192,
   "metadata": {},
   "outputs": [
    {
     "name": "stdout",
     "output_type": "stream",
     "text": [
      "all these bitches using Biden’s election as an excuse to post nudes as if they don’t wh0re themselves out online every other day\n",
      "\n",
      "Rly would love for the cynicism from the most privileged people to get the hell off my timeline oh my god. You, who will arguably have the least to lose should this special election go the other way, complaining about ppl trying to muster up enthusiasm and hope and action? Gtfo.\n",
      "\n",
      "If Trump had 1/10 of a brain he would have withheld the Barrett appointment until after the election to force the GOP to back him on this ridiculous victory claim. And it might have worked in the right courtrooms.\n",
      "\n",
      "We are so lucky he’s as dumb as he is. The next one won’t be.\n",
      "\n",
      "TO TRUMP'S ELECTION LAWYERS: listen up, bitches. #FRCP \n",
      "@MelissaJPeltier\n",
      " @DrDinD\n",
      " @_Jo_di\n",
      " @NYCanegirl\n",
      " @northeast_mama\n",
      "\n",
      "One nice thing about election coverage is we no longer use shit like this\n",
      "\n",
      "#wardamneagle\n",
      "forever \n",
      " yall made me proud, to bad the whole state didn't share the understanding but at least my loves at #auburntigers new what this election meant https://instagram.com/p/CHVojgRhT54/?igshid=1d5c0snx9wesd…\n",
      "\n",
      "#RudyGiuliani just said on that shithole station #NEWSMAXTV that this election will be overturned in favor of Chump\n",
      "\n",
      "Same shit, different election https://instagram.com/p/CHVpdFLJmnn/?igshid=wi69oxanvtp7…\n",
      "\n",
      "8 tweets contain bad / curse words!\n"
     ]
    }
   ],
   "source": [
    "bad = 0\n",
    "badwords = open(\"badword.txt\",\"r\").read().split('\\n')\n",
    "for tweet in dataframeTweets['tweets']:\n",
    "    if any(name in tweet for name in badwords):\n",
    "        bad += 1\n",
    "        print(tweet + \"\\n\")\n",
    "print(str(bad) + \" tweets contain bad / curse words!\")"
   ]
  },
  {
   "cell_type": "code",
   "execution_count": 193,
   "metadata": {},
   "outputs": [],
   "source": [
    "users = pd.DataFrame({'userhandle':dataframeTweets['userhandle'], \n",
    "                   'tweets': 1})"
   ]
  },
  {
   "cell_type": "code",
   "execution_count": 194,
   "metadata": {},
   "outputs": [],
   "source": [
    "groupbyusers = users[['userhandle', 'tweets']].groupby('userhandle').sum()"
   ]
  },
  {
   "cell_type": "code",
   "execution_count": 195,
   "metadata": {},
   "outputs": [
    {
     "data": {
      "text/html": [
       "<div>\n",
       "<style scoped>\n",
       "    .dataframe tbody tr th:only-of-type {\n",
       "        vertical-align: middle;\n",
       "    }\n",
       "\n",
       "    .dataframe tbody tr th {\n",
       "        vertical-align: top;\n",
       "    }\n",
       "\n",
       "    .dataframe thead th {\n",
       "        text-align: right;\n",
       "    }\n",
       "</style>\n",
       "<table border=\"1\" class=\"dataframe\">\n",
       "  <thead>\n",
       "    <tr style=\"text-align: right;\">\n",
       "      <th></th>\n",
       "      <th>tweets</th>\n",
       "    </tr>\n",
       "    <tr>\n",
       "      <th>userhandle</th>\n",
       "      <th></th>\n",
       "    </tr>\n",
       "  </thead>\n",
       "  <tbody>\n",
       "    <tr>\n",
       "      <th>@JoyAnnReid</th>\n",
       "      <td>5</td>\n",
       "    </tr>\n",
       "    <tr>\n",
       "      <th>@SabrinaSiddiqui</th>\n",
       "      <td>2</td>\n",
       "    </tr>\n",
       "    <tr>\n",
       "      <th>@W7VOA</th>\n",
       "      <td>2</td>\n",
       "    </tr>\n",
       "    <tr>\n",
       "      <th>@LALewman</th>\n",
       "      <td>2</td>\n",
       "    </tr>\n",
       "    <tr>\n",
       "      <th>@stvarts</th>\n",
       "      <td>2</td>\n",
       "    </tr>\n",
       "  </tbody>\n",
       "</table>\n",
       "</div>"
      ],
      "text/plain": [
       "                  tweets\n",
       "userhandle              \n",
       "@JoyAnnReid            5\n",
       "@SabrinaSiddiqui       2\n",
       "@W7VOA                 2\n",
       "@LALewman              2\n",
       "@stvarts               2"
      ]
     },
     "execution_count": 195,
     "metadata": {},
     "output_type": "execute_result"
    }
   ],
   "source": [
    "groupbyusers.sort_values(by = \"tweets\", ascending=False).head()"
   ]
  },
  {
   "cell_type": "code",
   "execution_count": 196,
   "metadata": {},
   "outputs": [],
   "source": [
    "badsites = open(\"badNews.txt\",\"r\").read().split('\\n')\n",
    "prominentsites = open(\"prominentsites.txt\",\"r\").read().split('\\n')"
   ]
  },
  {
   "cell_type": "code",
   "execution_count": 197,
   "metadata": {},
   "outputs": [
    {
     "name": "stdout",
     "output_type": "stream",
     "text": [
      "Prominent tweet ------- Chris Christie, close Trump ally, says show some proof of election fraud or 'time to move on' \n",
      "\n",
      "\"Show us. Because if you can't show us, we can't do this. We can't back you blindly without evidence.\"\n",
      "\n",
      "https://nbcnews.com/politics/2020-election/chris-christie-close-trump-ally-suggests-it-may-soon-be-n1247036… via \n",
      "@nbcnews\n",
      "\n"
     ]
    }
   ],
   "source": [
    "urls = 0\n",
    "fake = 0\n",
    "prominent = 0\n",
    "domains = [\".com\", \".net\", \".org\", \".news\", \".co\", \".gov\", \".info\", \n",
    "           \".edu\", \".site\", \".us\"]\n",
    "for tweet in dataframeTweets['tweets']:\n",
    "     if any(dom in tweet for dom in domains):\n",
    "        if any(bsite in tweet for bsite in badsites):\n",
    "            print(\"Bad tweet ------- \"+ tweet + \"\\n\")\n",
    "            fake += 1\n",
    "        if any(psite in tweet for psite in prominentsites):\n",
    "            print(\"Prominent tweet ------- \"+ tweet + \"\\n\")\n",
    "            prominent += 1\n",
    "        urls += 1\n",
    "for reply in dataframeTweets['reply']:\n",
    "     if any(dom in reply for dom in domains):\n",
    "        if any(bsite in reply for bsite in badsites):\n",
    "            print(\"Bad reply ------- \"+ tweet + \"\\n\")\n",
    "            fake += 1\n",
    "        if any(psite in reply for psite in prominentsites):\n",
    "            print(\"Prominent reply ------- \" + reply + \"\\n\")\n",
    "            prominent += 1\n",
    "        urls += 1"
   ]
  },
  {
   "cell_type": "code",
   "execution_count": 198,
   "metadata": {},
   "outputs": [
    {
     "name": "stdout",
     "output_type": "stream",
     "text": [
      "There are a total of 55 urls.\n",
      "0 references to bad websites.\n",
      "1 references to prominent websites.\n"
     ]
    }
   ],
   "source": [
    "print(\"There are a total of \" + str(urls) + \" urls.\")\n",
    "print(str(fake) + \" references to bad websites.\")\n",
    "print(str(prominent) + \" references to prominent websites.\")"
   ]
  },
  {
   "cell_type": "code",
   "execution_count": null,
   "metadata": {},
   "outputs": [],
   "source": []
  }
 ],
 "metadata": {
  "kernelspec": {
   "display_name": "Python 3",
   "language": "python",
   "name": "python3"
  },
  "language_info": {
   "codemirror_mode": {
    "name": "ipython",
    "version": 3
   },
   "file_extension": ".py",
   "mimetype": "text/x-python",
   "name": "python",
   "nbconvert_exporter": "python",
   "pygments_lexer": "ipython3",
   "version": "3.6.10"
  }
 },
 "nbformat": 4,
 "nbformat_minor": 4
}
